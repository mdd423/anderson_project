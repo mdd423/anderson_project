{
 "cells": [
  {
   "cell_type": "code",
   "execution_count": 1,
   "id": "8b12a973",
   "metadata": {},
   "outputs": [],
   "source": [
    "# existing imports\n",
    "from dataclasses import dataclass\n",
    "import sys\n",
    "from tqdm import tqdm\n",
    "# third party imports\n",
    "import scipy.integrate as integrate\n",
    "import scipy.sparse as sparse\n",
    "import scipy.linalg\n",
    "import numpy as np\n",
    "np.random.seed(101101)\n",
    "# local imports\n",
    "sys.path.insert(0,'..')\n",
    "from src.matrices import get_J_matrix\n",
    "# display imports\n",
    "import matplotlib.animation as animation\n",
    "import matplotlib.pyplot as plt\n",
    "from IPython.display import Video"
   ]
  },
  {
   "cell_type": "markdown",
   "id": "35be550f",
   "metadata": {},
   "source": [
    "<h1>02-Simulate Evolution of Neural System</h1>\n",
    "Now we are going to take the matrices for J and H generated previously, and use them as update values to a differential equation. Parameters pulled from last notebook for simulation here."
   ]
  },
  {
   "cell_type": "code",
   "execution_count": 2,
   "id": "9fd2c5ce",
   "metadata": {},
   "outputs": [],
   "source": [
    "parameters = [{'u'    :0.5\n",
    "              ,'w'    :0.0\n",
    "              ,'alpha':1.0\n",
    "              ,'beta' :0.0\n",
    "              ,'gamma':0.0}\n",
    "              \n",
    "             ,{'u'    :0.0\n",
    "              ,'w'    :0.0\n",
    "              ,'alpha':1.0\n",
    "              ,'beta' :1.0\n",
    "              ,'gamma':1.0}\n",
    "              \n",
    "             ,{'u'    :0.5\n",
    "              ,'w'    :0.0\n",
    "              ,'alpha':1.0\n",
    "              ,'beta' :1.0\n",
    "              ,'gamma':1.0}\n",
    "              \n",
    "             ,{'u'    :0.5\n",
    "              ,'w'    :0.5\n",
    "              ,'alpha':1.0\n",
    "              ,'beta' :1.0\n",
    "              ,'gamma':1.0}]\n",
    "\n",
    "N = 200\n",
    "u, w, alpha, beta, gamma = parameters[2].values()\n",
    "matrix = get_J_matrix(N,**parameters[2])"
   ]
  },
  {
   "cell_type": "markdown",
   "id": "b2da17db",
   "metadata": {},
   "source": [
    "<h2>Eigenvalues and Eigenvectors</h2>\n",
    "Looking at the greatest eigenvalues and vectors of the matrix in our differential equation will give us an understanding the stable states of the neural system"
   ]
  },
  {
   "cell_type": "code",
   "execution_count": 3,
   "id": "9f1f9cac",
   "metadata": {},
   "outputs": [],
   "source": [
    "lambs, vecs = scipy.linalg.eig(np.array(matrix))"
   ]
  },
  {
   "cell_type": "code",
   "execution_count": 4,
   "id": "5638d2dd",
   "metadata": {},
   "outputs": [],
   "source": [
    "def sigmoid(x):\n",
    "    return 1 / (1 + np.exp(-x))"
   ]
  },
  {
   "cell_type": "markdown",
   "id": "7ef7c085",
   "metadata": {},
   "source": [
    "<h2>Define Differential Equation</h2>\n",
    "Here we define the differential equation as defined in Tanaka et al. equation (8)\n",
    "$$\n",
    "  \\tau \\frac{dr_i}{dt} = -r_i(t) + f[\\sum_j J_{i j} r_j(t) + h_i(t)]\n",
    "$$\n",
    "where f is the neurons activation function, and h_i is the ith neurons external input."
   ]
  },
  {
   "cell_type": "code",
   "execution_count": 5,
   "id": "ba7101f4",
   "metadata": {},
   "outputs": [],
   "source": [
    "@dataclass\n",
    "class NeuronDiffEq:\n",
    "    matrix: np.matrix\n",
    "    tau: np.double\n",
    "    N: int\n",
    "    \n",
    "    def activation(self,x):\n",
    "        '''\n",
    "            Activation function on neurons that take sum of inputs\n",
    "        '''\n",
    "        out = np.zeros(x.shape)\n",
    "        out[(x + 1) < 0]  = 0.0\n",
    "        out[(x + 1) >= 0] = x[(x + 1) >= 0] + 1\n",
    "        return out\n",
    "    \n",
    "    def external(self,t):\n",
    "        '''\n",
    "            External input to each neuron at time, t\n",
    "        '''\n",
    "        \n",
    "        return 0.0\n",
    "    \n",
    "    def __call__(self,r,t):\n",
    "        '''\n",
    "            THE EQUATION\n",
    "        '''\n",
    "        interactions = np.array(self.matrix @ r).squeeze()\n",
    "        out = (-r + self.activation(interactions + self.external(t)).squeeze())/self.tau\n",
    "        return out"
   ]
  },
  {
   "cell_type": "markdown",
   "id": "4b294c4f",
   "metadata": {},
   "source": [
    "Now we can use our class format to have children with different external inputs"
   ]
  },
  {
   "cell_type": "code",
   "execution_count": 6,
   "id": "1f29808c",
   "metadata": {},
   "outputs": [],
   "source": [
    "@dataclass\n",
    "class NoisyNeuron(NeuronDiffEq):\n",
    "    mu: np.double\n",
    "    sigma: np.double\n",
    "    \n",
    "    def external(self,t):\n",
    "        \n",
    "        out = np.random.normal(self.mu,self.sigma,self.N)\n",
    "        return out\n",
    "\n",
    "@dataclass\n",
    "class ConstantInput(NeuronDiffEq):\n",
    "    constant: np.double\n",
    "    sites: slice\n",
    "    \n",
    "    def external(self,t):\n",
    "        \n",
    "        out = np.zeros(self.N)\n",
    "        out[self.sites] = self.constant\n",
    "        return out"
   ]
  },
  {
   "cell_type": "markdown",
   "id": "09790ca1",
   "metadata": {},
   "source": [
    "<h2>Simulation Time</h2>\n",
    "Now we are going to simulate the neurons as connected by the above matrix."
   ]
  },
  {
   "cell_type": "code",
   "execution_count": 13,
   "id": "d8762bfe",
   "metadata": {},
   "outputs": [],
   "source": [
    "tau = 5\n",
    "tspace = range(100)\n",
    "r0 = np.zeros(N)\n",
    "r0[:N//2] = 3.0\n",
    "in_array = np.zeros((len(tspace),*r0.shape))\n",
    "\n",
    "mu = 0.0\n",
    "sigma = 10.0\n",
    "constant = 3.0\n",
    "sites = slice(0,N//3)\n",
    "# neurons = NoisyNeuron(matrix,tau,N,mu,sigma)\n",
    "# neurons = ConstantInput(matrix,tau,N,constant,sites)\n",
    "neurons = NeuronDiffEq(matrix,tau,N)\n",
    "results = integrate.odeint(neurons,r0,tspace)"
   ]
  },
  {
   "cell_type": "code",
   "execution_count": 14,
   "id": "a2ae06dd",
   "metadata": {},
   "outputs": [
    {
     "data": {
      "image/png": "[encoded data removed]",
      "text/plain": [
       "<Figure size 648x432 with 3 Axes>"
      ]
     },
     "metadata": {},
     "output_type": "display_data"
    }
   ],
   "source": [
    "n_imgs = 3\n",
    "strt_img = 0\n",
    "\n",
    "fig, axs = plt.subplots(n_imgs,figsize=(3*n_imgs,6))\n",
    "# metrics = np.zeros((len(kernels),*image.shape))\n",
    "for index,img_i in enumerate(range(strt_img,n_imgs+strt_img)):\n",
    "\n",
    "    axs[index].plot(results[img_i,...])\n",
    "    axs[index].set_xticks([])\n",
    "    axs[index].set_yticks([])\n",
    "        \n",
    "plt.show()"
   ]
  },
  {
   "cell_type": "markdown",
   "id": "dc69abea",
   "metadata": {},
   "source": [
    "Reorder of eigenvectors by largest values. And selecting some to plot."
   ]
  },
  {
   "cell_type": "code",
   "execution_count": 15,
   "id": "f172ff43",
   "metadata": {},
   "outputs": [],
   "source": [
    "eig_n = 10\n",
    "ordered_inds = np.argsort(lambs.real)\n",
    "vecs_sp = vecs[:,ordered_inds[:eig_n]]"
   ]
  },
  {
   "cell_type": "code",
   "execution_count": 16,
   "id": "1f57f817",
   "metadata": {},
   "outputs": [
    {
     "data": {
      "text/plain": [
       "(200, 10)"
      ]
     },
     "execution_count": 16,
     "metadata": {},
     "output_type": "execute_result"
    }
   ],
   "source": [
    "vecs_sp.shape"
   ]
  },
  {
   "cell_type": "markdown",
   "id": "b5240c72",
   "metadata": {},
   "source": [
    "script to write a movie of the neural state evolving over time."
   ]
  },
  {
   "cell_type": "code",
   "execution_count": 17,
   "id": "1afbb8f0",
   "metadata": {},
   "outputs": [
    {
     "name": "stderr",
     "output_type": "stream",
     "text": [
      "102it [00:07, 14.16it/s]                         \n"
     ]
    },
    {
     "data": {
      "image/png": "[encoded data removed]",
      "text/plain": [
       "<Figure size 360x360 with 1 Axes>"
      ]
     },
     "metadata": {
      "needs_background": "light"
     },
     "output_type": "display_data"
    }
   ],
   "source": [
    "fig, ax = plt.subplots(figsize=(5, 5))\n",
    "\n",
    "for iii in range(eig_n):\n",
    "    ax.plot(np.abs(vecs_sp[:,iii])**2)\n",
    "\n",
    "line, = ax.plot(results[0,...])\n",
    "# ax.axis('equal')\n",
    "ax.set_xlabel('Sites')\n",
    "\n",
    "\n",
    "orders = np.arange(0,len(tspace),dtype=int)\n",
    "with tqdm(total=len(tspace)) as pbar:\n",
    "        \n",
    "    def next_image(index):\n",
    "        \n",
    "        line.set_ydata(results[index,...])\n",
    "#         ax.set_title(\"{}\".format(tim_stack[index]))\n",
    "        pbar.update(1)\n",
    "        \n",
    "        return line,\n",
    "            \n",
    "    ani = animation.FuncAnimation(\n",
    "        fig,\n",
    "        next_image,\n",
    "        frames=orders,\n",
    "        interval=200,\n",
    "        repeat=False,\n",
    "        repeat_delay=100,\n",
    "        blit=True\n",
    "    )\n",
    "#     plt.show()\n",
    "    filename = \"out/diffeqJ_u{}_w{}_a{}_b{}_g{}.mp4\".format(u,w,alpha,beta,gamma)\n",
    "    ani.save(filename)"
   ]
  },
  {
   "cell_type": "code",
   "execution_count": 12,
   "id": "6ed7bcdf",
   "metadata": {},
   "outputs": [
    {
     "data": {
      "text/html": [
       "<video src=\"diffeqJ_u0.5_w0.0_a1.0_b1.0_g1.0.mp4\" controls  >\n",
       "      Your browser does not support the <code>video</code> element.\n",
       "    </video>"
      ],
      "text/plain": [
       "<IPython.core.display.Video object>"
      ]
     },
     "execution_count": 12,
     "metadata": {},
     "output_type": "execute_result"
    }
   ],
   "source": [
    "Video(filename)"
   ]
  },
  {
   "cell_type": "code",
   "execution_count": null,
   "id": "f27be04a",
   "metadata": {},
   "outputs": [],
   "source": []
  }
 ],
 "metadata": {
  "kernelspec": {
   "display_name": "Python 3",
   "language": "python",
   "name": "python3"
  },
  "language_info": {
   "codemirror_mode": {
    "name": "ipython",
    "version": 3
   },
   "file_extension": ".py",
   "mimetype": "text/x-python",
   "name": "python",
   "nbconvert_exporter": "python",
   "pygments_lexer": "ipython3",
   "version": "3.7.1"
  }
 },
 "nbformat": 4,
 "nbformat_minor": 5
}
