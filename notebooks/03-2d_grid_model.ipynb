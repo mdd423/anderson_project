{
 "cells": [
  {
   "cell_type": "code",
   "execution_count": 3,
   "id": "8b12a973",
   "metadata": {},
   "outputs": [],
   "source": [
    "# existing imports\n",
    "from dataclasses import dataclass\n",
    "import sys\n",
    "# from tqdm import tqdm\n",
    "# third party imports\n",
    "import scipy.integrate as integrate\n",
    "import scipy.sparse as sparse\n",
    "import scipy.linalg\n",
    "import numpy as np\n",
    "np.random.seed(101101)\n",
    "# local imports\n",
    "sys.path.insert(0,'..')\n",
    "from src.matrices import get_J_matrix\n",
    "# display imports\n",
    "import matplotlib.animation as animation\n",
    "import matplotlib.pyplot as plt\n",
    "# from IPython.display import Video"
   ]
  },
  {
   "cell_type": "code",
   "execution_count": 4,
   "id": "cc3ae177",
   "metadata": {},
   "outputs": [],
   "source": [
    "import subprocess"
   ]
  },
  {
   "cell_type": "code",
   "execution_count": 7,
   "id": "786d4a16",
   "metadata": {},
   "outputs": [],
   "source": [
    "# import tqdm"
   ]
  },
  {
   "cell_type": "code",
   "execution_count": 8,
   "id": "311821d8",
   "metadata": {},
   "outputs": [
    {
     "data": {
      "text/plain": [
       "CompletedProcess(args=['conda', 'list'], returncode=0)"
      ]
     },
     "execution_count": 8,
     "metadata": {},
     "output_type": "execute_result"
    }
   ],
   "source": [
    "subprocess.run([\"conda\", \"list\"]) "
   ]
  },
  {
   "cell_type": "markdown",
   "id": "35be550f",
   "metadata": {},
   "source": [
    "<h1>03-Grid Model</h1>"
   ]
  },
  {
   "cell_type": "code",
   "execution_count": 30,
   "id": "9fd2c5ce",
   "metadata": {},
   "outputs": [
    {
     "name": "stdout",
     "output_type": "stream",
     "text": [
      "[{'u': 0.5, 'w': 0.0, 'alpha': 1.0, 'beta': 0.0, 'gamma': 0.0}, {'u': 0.0, 'w': 0.0, 'alpha': 1.0, 'beta': 1.0, 'gamma': 1.0}, {'u': 0.5, 'w': 0.0, 'alpha': 1.0, 'beta': 1.0, 'gamma': 1.0}, {'u': 0.5, 'w': 0.5, 'alpha': 1.0, 'beta': 1.0, 'gamma': 1.0}]\n"
     ]
    }
   ],
   "source": [
    "import src.matrices\n",
    "parameters = src.matrices.paper_parameters\n",
    "print(parameters)\n",
    "N = 20\n",
    "u, w, alpha, beta, gamma = parameters[2].values()\n",
    "matrix_1 = get_J_matrix(N,**parameters[2])\n",
    "matrix_2 = get_J_matrix(N,**parameters[2])\n",
    "identity = sparse.eye(N)\n",
    "\n",
    "matrix_grid = sparse.kron(matrix_1,identity).toarray() + sparse.kron(identity,matrix_2).toarray()"
   ]
  },
  {
   "cell_type": "code",
   "execution_count": 32,
   "id": "cb825e84",
   "metadata": {},
   "outputs": [
    {
     "name": "stdout",
     "output_type": "stream",
     "text": [
      "float64\n",
      "float64\n",
      "float64\n"
     ]
    },
    {
     "data": {
      "image/png": "[encoded data removed]",
      "text/plain": [
       "<Figure size 432x288 with 2 Axes>"
      ]
     },
     "metadata": {
      "needs_background": "light"
     },
     "output_type": "display_data"
    }
   ],
   "source": [
    "print(matrix_grid.dtype)\n",
    "print(matrix_1.dtype)\n",
    "print(matrix_2.dtype)\n",
    "plt.imshow(matrix_grid)\n",
    "plt.colorbar()\n",
    "plt.show()"
   ]
  },
  {
   "cell_type": "markdown",
   "id": "b2da17db",
   "metadata": {},
   "source": [
    "<h2>Eigenvalues and Eigenvectors</h2>\n",
    "Looking at the greatest eigenvalues and vectors of the matrix in our differential equation will give us an understanding the stable states of the neural system"
   ]
  },
  {
   "cell_type": "code",
   "execution_count": 11,
   "id": "9f1f9cac",
   "metadata": {},
   "outputs": [
    {
     "name": "stdout",
     "output_type": "stream",
     "text": [
      "(400, 400)\n"
     ]
    }
   ],
   "source": [
    "temp = np.array(matrix_grid)\n",
    "print(temp.shape)\n",
    "lambs, vecs = scipy.linalg.eig(temp)"
   ]
  },
  {
   "cell_type": "code",
   "execution_count": 12,
   "id": "5638d2dd",
   "metadata": {},
   "outputs": [],
   "source": [
    "def sigmoid(x):\n",
    "    return 1 / (1 + np.exp(-x))"
   ]
  },
  {
   "cell_type": "markdown",
   "id": "7ef7c085",
   "metadata": {},
   "source": [
    "<h2>Define Differential Equation</h2>\n",
    "Here we define the differential equation as defined in Tanaka et al. equation (8)\n",
    "$$\n",
    "  \\tau \\frac{dr_i}{dt} = -r_i(t) + f[\\sum_j J_{i j} r_j(t) + h_i(t)]\n",
    "$$\n",
    "where f is the neurons activation function, and h_i is the ith neurons external input."
   ]
  },
  {
   "cell_type": "markdown",
   "id": "4b294c4f",
   "metadata": {},
   "source": [
    "Now we can use our class format to have children with different external inputs"
   ]
  },
  {
   "cell_type": "markdown",
   "id": "09790ca1",
   "metadata": {},
   "source": [
    "<h2>Simulation Time</h2>\n",
    "Now we are going to simulate the neurons as connected by the above matrix."
   ]
  },
  {
   "cell_type": "code",
   "execution_count": 13,
   "id": "d8762bfe",
   "metadata": {},
   "outputs": [
    {
     "name": "stderr",
     "output_type": "stream",
     "text": [
      "..\\src\\matrices.py:107: RuntimeWarning: overflow encountered in matmul\n",
      "  interactions = np.array(self.matrix @ r).squeeze()\n",
      "..\\src\\matrices.py:107: RuntimeWarning: invalid value encountered in matmul\n",
      "  interactions = np.array(self.matrix @ r).squeeze()\n",
      "C:\\Users\\mdaun\\anaconda3\\envs\\hedenv\\lib\\site-packages\\scipy\\integrate\\odepack.py:247: ODEintWarning: Excess work done on this call (perhaps wrong Dfun type). Run with full_output = 1 to get quantitative information.\n",
      "  warnings.warn(warning_msg, ODEintWarning)\n"
     ]
    }
   ],
   "source": [
    "tau = 5\n",
    "tspace = range(100)\n",
    "r0 = np.zeros(N**2)\n",
    "r0[:N//2] = 2.0\n",
    "in_array = np.zeros((len(tspace),*r0.shape))\n",
    "\n",
    "mu  = 0\n",
    "vmu = 2\n",
    "sigma = 5.0\n",
    "height = 5.0\n",
    "# sites = slice(0,N//3)\n",
    "# neurons = NoisyNeuron(matrix,tau,N,mu,sigma)\n",
    "# neurons = ConstantInput(matrix,tau,N,constant,sites)\n",
    "neurons = src.matrices.NeuronDiffEq(matrix_grid,tau,N)\n",
    "results = integrate.odeint(neurons,r0,tspace)"
   ]
  },
  {
   "cell_type": "code",
   "execution_count": 21,
   "id": "a2ae06dd",
   "metadata": {},
   "outputs": [
    {
     "data": {
      "image/png": "[encoded data removed]",
      "text/plain": [
       "<Figure size 1512x432 with 7 Axes>"
      ]
     },
     "metadata": {},
     "output_type": "display_data"
    }
   ],
   "source": [
    "# n_imgs = 3\n",
    "times_indices = [0,1,2,3,4,5,10]\n",
    "\n",
    "fig, axs = plt.subplots(len(times_indices),figsize=(3*len(times_indices),6))\n",
    "# metrics = np.zeros((len(kernels),*image.shape))\n",
    "for index,img_i in enumerate(times_indices):\n",
    "\n",
    "    axs[index].imshow(results[img_i,...].reshape(N,N))\n",
    "    axs[index].set_xticks([])\n",
    "    axs[index].set_yticks([])\n",
    "        \n",
    "plt.show()"
   ]
  },
  {
   "cell_type": "markdown",
   "id": "dc69abea",
   "metadata": {},
   "source": [
    "Reorder of eigenvectors by largest values. And selecting some to plot."
   ]
  },
  {
   "cell_type": "code",
   "execution_count": 15,
   "id": "f172ff43",
   "metadata": {},
   "outputs": [],
   "source": [
    "eig_n = 10\n",
    "ordered_inds = np.argsort(lambs.real)\n",
    "vecs_sp = vecs[:,ordered_inds[:eig_n]]"
   ]
  },
  {
   "cell_type": "code",
   "execution_count": 29,
   "id": "1f57f817",
   "metadata": {},
   "outputs": [
    {
     "data": {
      "image/png": "[encoded data removed]",
      "text/plain": [
       "<Figure size 1440x360 with 4 Axes>"
      ]
     },
     "metadata": {
      "needs_background": "light"
     },
     "output_type": "display_data"
    }
   ],
   "source": [
    "n_plots = 4\n",
    "fig, axs = plt.subplots(n_plots,figsize=(5*n_plots,5))\n",
    "for i in range(n_plots):\n",
    "    axs[i].imshow((np.abs(vecs_sp[:,i])**2).reshape(N,N))\n",
    "plt.show()\n"
   ]
  },
  {
   "cell_type": "markdown",
   "id": "b5240c72",
   "metadata": {},
   "source": [
    "script to write a movie of the neural state evolving over time."
   ]
  },
  {
   "cell_type": "code",
   "execution_count": 17,
   "id": "1afbb8f0",
   "metadata": {},
   "outputs": [],
   "source": [
    "# fig, ax = plt.subplots(figsize=(5, 5))\n",
    "\n",
    "# for iii in range(eig_n):\n",
    "#     ax.plot(np.abs(vecs_sp[:,iii])**2)\n",
    "\n",
    "# line, = ax.plot(results[0,...])\n",
    "# # ax.axis('equal')\n",
    "# ax.set_xlabel('Sites')\n",
    "\n",
    "\n",
    "# orders = np.arange(0,len(tspace),dtype=int)\n",
    "# with tqdm(total=len(tspace)) as pbar:\n",
    "        \n",
    "#     def next_image(index):\n",
    "        \n",
    "#         line.set_ydata(results[index,...])\n",
    "# #         ax.set_title(\"{}\".format(tim_stack[index]))\n",
    "#         pbar.update(1)\n",
    "        \n",
    "#         return line,\n",
    "            \n",
    "#     ani = animation.FuncAnimation(\n",
    "#         fig,\n",
    "#         next_image,\n",
    "#         frames=orders,\n",
    "#         interval=200,\n",
    "#         repeat=False,\n",
    "#         repeat_delay=100,\n",
    "#         blit=True\n",
    "#     )\n",
    "# #     plt.show()\n",
    "#     filename = \"out/diffeqJ_u{}_w{}_a{}_b{}_g{}.mp4\".format(u,w,alpha,beta,gamma)\n",
    "#     ani.save(filename)"
   ]
  },
  {
   "cell_type": "code",
   "execution_count": 18,
   "id": "6ed7bcdf",
   "metadata": {},
   "outputs": [],
   "source": [
    "# Video(filename)"
   ]
  },
  {
   "cell_type": "code",
   "execution_count": null,
   "id": "f27be04a",
   "metadata": {},
   "outputs": [],
   "source": []
  }
 ],
 "metadata": {
  "kernelspec": {
   "display_name": "Python 3",
   "language": "python",
   "name": "python3"
  },
  "language_info": {
   "codemirror_mode": {
    "name": "ipython",
    "version": 3
   },
   "file_extension": ".py",
   "mimetype": "text/x-python",
   "name": "python",
   "nbconvert_exporter": "python",
   "pygments_lexer": "ipython3",
   "version": "3.6.11"
  }
 },
 "nbformat": 4,
 "nbformat_minor": 5
}
